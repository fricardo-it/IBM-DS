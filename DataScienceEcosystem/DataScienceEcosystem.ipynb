{
 "cells": [
  {
   "cell_type": "markdown",
   "id": "fc3b735a-87a4-4c9d-b577-f84b04b1e673",
   "metadata": {},
   "source": [
    "# Data Science Tools and Ecosystem"
   ]
  },
  {
   "cell_type": "markdown",
   "id": "ca36bc17-235d-4a9a-be74-a29cd99ae8c7",
   "metadata": {},
   "source": [
    "In this notebook, Data Science Tools and Ecosystem are summarized."
   ]
  },
  {
   "cell_type": "markdown",
   "id": "fdd0203c-3fc9-4e3f-b316-e4eba456386d",
   "metadata": {},
   "source": [
    "Some of the popular languages that Data Scientists use are:\n",
    "1. Python\n",
    "2. R\n",
    "3. SQL\n",
    "4. Java\n",
    "5. Julia"
   ]
  },
  {
   "cell_type": "markdown",
   "id": "1bfd1ec9-fc73-47a1-ae2a-7cdc081f2e12",
   "metadata": {},
   "source": [
    "Some of the commonly used libraries used by Data Scientists include:\n",
    "1. Pandas\n",
    "2. NumPy\n",
    "3. Matplotlib\n",
    "4. TensorFlow\n",
    "5. Scikit-learn"
   ]
  },
  {
   "cell_type": "markdown",
   "id": "bb52490c-82c5-418a-b2c9-8fed9b3b047a",
   "metadata": {},
   "source": [
    "| Data Science Tools |\n",
    "|--------------------|\n",
    "| Jupyter Notebook   |\n",
    "| RStudio            |\n",
    "| Apache Zeppelin    |\n"
   ]
  },
  {
   "cell_type": "markdown",
   "id": "fd77e185-3ed5-4bb8-bbed-e72a53b25b96",
   "metadata": {},
   "source": [
    "### Below are a few examples of evaluating arithmetic expressions in Python."
   ]
  },
  {
   "cell_type": "code",
   "execution_count": 3,
   "id": "a6a86fdd-8115-4ae8-959d-3db437774a9e",
   "metadata": {},
   "outputs": [
    {
     "data": {
      "text/plain": [
       "17"
      ]
     },
     "execution_count": 3,
     "metadata": {},
     "output_type": "execute_result"
    }
   ],
   "source": [
    "# This a simple arithmetic expression to multiply then add integers\n",
    "(3*4)+5"
   ]
  },
  {
   "cell_type": "code",
   "execution_count": 4,
   "id": "46cff7e7-a9ff-4baa-9cf7-80c3f9385920",
   "metadata": {},
   "outputs": [
    {
     "data": {
      "text/plain": [
       "3.3333333333333335"
      ]
     },
     "execution_count": 4,
     "metadata": {},
     "output_type": "execute_result"
    }
   ],
   "source": [
    "# This will convert 200 minutes to hours by dividing by 60\n",
    "200 / 60"
   ]
  },
  {
   "cell_type": "markdown",
   "id": "6421844e-0aec-4b8b-b3da-d23d91e081c4",
   "metadata": {},
   "source": [
    "**Objectives:**\n",
    "- List popular languages for Data Science\n",
    "- List commonly used libraries in Data Science\n",
    "- Create a table of Data Science Tools\n",
    "- Perform basic arithmetic operations in Python\n"
   ]
  },
  {
   "cell_type": "markdown",
   "id": "72097987-7681-49ac-b54a-d5c08082634f",
   "metadata": {},
   "source": [
    "## Author\n",
    "Francisco Ricardo Andraschko\n"
   ]
  },
  {
   "cell_type": "code",
   "execution_count": null,
   "id": "e3729f44-698d-4162-856c-85394969f6a0",
   "metadata": {},
   "outputs": [],
   "source": []
  }
 ],
 "metadata": {
  "kernelspec": {
   "display_name": "Python 3 (ipykernel)",
   "language": "python",
   "name": "python3"
  },
  "language_info": {
   "codemirror_mode": {
    "name": "ipython",
    "version": 3
   },
   "file_extension": ".py",
   "mimetype": "text/x-python",
   "name": "python",
   "nbconvert_exporter": "python",
   "pygments_lexer": "ipython3",
   "version": "3.12.4"
  }
 },
 "nbformat": 4,
 "nbformat_minor": 5
}
